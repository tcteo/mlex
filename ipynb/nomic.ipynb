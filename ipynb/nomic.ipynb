{
 "cells": [
  {
   "cell_type": "code",
   "execution_count": 1,
   "metadata": {},
   "outputs": [],
   "source": [
    "# _ve/bin/pip install nomic[local]\n",
    "# note:\n",
    "#   nomic doesn't install gpt4all, which required for local mode; nomic[local] does\n",
    "\n",
    "# Reference:\n",
    "# https://blog.nomic.ai/posts/local-nomic-embed\n"
   ]
  },
  {
   "cell_type": "code",
   "execution_count": 2,
   "metadata": {},
   "outputs": [],
   "source": [
    "from nomic import embed\n",
    "import numpy as np\n",
    "import gpt4all\n"
   ]
  },
  {
   "cell_type": "code",
   "execution_count": 3,
   "metadata": {},
   "outputs": [
    {
     "name": "stderr",
     "output_type": "stream",
     "text": [
      "Downloading: 100%|██████████| 274M/274M [00:23<00:00, 11.4MiB/s] \n",
      "Verifying: 100%|██████████| 274M/274M [00:00<00:00, 742MiB/s] \n",
      "Failed to load libllamamodel-mainline-cuda-avxonly.so: dlopen: libcuda.so.1: cannot open shared object file: No such file or directory\n",
      "Failed to load libllamamodel-mainline-cuda.so: dlopen: libcuda.so.1: cannot open shared object file: No such file or directory\n"
     ]
    }
   ],
   "source": [
    "# nomic local downloads weights (262MiB) on first use, storing them at this path\n",
    "#     ~/.cache/gpt4all/nomic-embed-text-v1.5.f16.gguf\n",
    "\n",
    "# shasum -a 256 ~/.cache/gpt4all/nomic-embed-text-v1.5.f16.gguf\n",
    "# f7af6f66802f4df86eda10fe9bbcfc75c39562bed48ef6ace719a251cf1c2fdb\n",
    "\n",
    "# under the hood, this is done by gpt4all\n",
    "# do this manually here.\n",
    "\n",
    "model = gpt4all.GPT4All('nomic-embed-text-v1.5.f16.gguf')\n"
   ]
  },
  {
   "cell_type": "code",
   "execution_count": 4,
   "metadata": {},
   "outputs": [
    {
     "data": {
      "text/plain": [
       "<gpt4all.gpt4all.GPT4All at 0x7f3a677e6390>"
      ]
     },
     "execution_count": 4,
     "metadata": {},
     "output_type": "execute_result"
    }
   ],
   "source": [
    "model"
   ]
  },
  {
   "cell_type": "code",
   "execution_count": 5,
   "metadata": {},
   "outputs": [],
   "source": [
    "output = embed.text(\n",
    "    texts=[\n",
    "        'Nomic Embed now supports local and dynamic inference to save you inference latency and cost!',\n",
    "        'Hey Nomic, why don\\'t you release a multimodal model soon?',\n",
    "    ],\n",
    "    model='nomic-embed-text-v1.5',\n",
    "    task_type=\"search_document\",\n",
    "    inference_mode='local',\n",
    "    dimensionality=768,\n",
    ")\n"
   ]
  },
  {
   "cell_type": "code",
   "execution_count": 6,
   "metadata": {},
   "outputs": [
    {
     "data": {
      "text/plain": [
       "{'prompt_tokens': 36, 'total_tokens': 36}"
      ]
     },
     "execution_count": 6,
     "metadata": {},
     "output_type": "execute_result"
    }
   ],
   "source": [
    "output['usage']"
   ]
  },
  {
   "cell_type": "code",
   "execution_count": 7,
   "metadata": {},
   "outputs": [
    {
     "data": {
      "text/plain": [
       "768"
      ]
     },
     "execution_count": 7,
     "metadata": {},
     "output_type": "execute_result"
    }
   ],
   "source": [
    "len(output['embeddings'][1])\n"
   ]
  },
  {
   "cell_type": "code",
   "execution_count": 11,
   "metadata": {},
   "outputs": [],
   "source": []
  },
  {
   "cell_type": "code",
   "execution_count": null,
   "metadata": {},
   "outputs": [],
   "source": []
  }
 ],
 "metadata": {
  "kernelspec": {
   "display_name": "_ve",
   "language": "python",
   "name": "python3"
  },
  "language_info": {
   "codemirror_mode": {
    "name": "ipython",
    "version": 3
   },
   "file_extension": ".py",
   "mimetype": "text/x-python",
   "name": "python",
   "nbconvert_exporter": "python",
   "pygments_lexer": "ipython3",
   "version": "3.11.2"
  }
 },
 "nbformat": 4,
 "nbformat_minor": 2
}
