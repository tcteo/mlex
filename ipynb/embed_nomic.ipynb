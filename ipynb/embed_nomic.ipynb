{
 "cells": [
  {
   "cell_type": "code",
   "execution_count": 2,
   "metadata": {},
   "outputs": [],
   "source": [
    "# _ve/bin/pip install nomic[local]\n",
    "# note:\n",
    "#   nomic doesn't install gpt4all, which required for local mode; nomic[local] does\n",
    "\n",
    "# Reference:\n",
    "# https://blog.nomic.ai/posts/local-nomic-embed\n"
   ]
  },
  {
   "cell_type": "code",
   "execution_count": 3,
   "metadata": {},
   "outputs": [],
   "source": [
    "from nomic import embed\n",
    "import numpy as np\n",
    "import gpt4all\n",
    "import subprocess\n",
    "import numpy as np\n",
    "import pprint"
   ]
  },
  {
   "cell_type": "code",
   "execution_count": 4,
   "metadata": {},
   "outputs": [
    {
     "name": "stderr",
     "output_type": "stream",
     "text": [
      "Failed to load libllamamodel-mainline-cuda-avxonly.so: dlopen: libcuda.so.1: cannot open shared object file: No such file or directory\n",
      "Failed to load libllamamodel-mainline-cuda.so: dlopen: libcuda.so.1: cannot open shared object file: No such file or directory\n"
     ]
    }
   ],
   "source": [
    "# nomic local downloads weights (262MiB) on first use, storing them at this path\n",
    "#     ~/.cache/gpt4all/nomic-embed-text-v1.5.f16.gguf\n",
    "\n",
    "# shasum -a 256 ~/.cache/gpt4all/nomic-embed-text-v1.5.f16.gguf\n",
    "# f7af6f66802f4df86eda10fe9bbcfc75c39562bed48ef6ace719a251cf1c2fdb\n",
    "\n",
    "# under the hood, this is done by gpt4all\n",
    "# do this manually here.\n",
    "\n",
    "model = gpt4all.GPT4All('nomic-embed-text-v1.5.f16.gguf')\n"
   ]
  },
  {
   "cell_type": "code",
   "execution_count": 5,
   "metadata": {},
   "outputs": [
    {
     "data": {
      "text/plain": [
       "<gpt4all.gpt4all.GPT4All at 0x7f530420ba10>"
      ]
     },
     "execution_count": 5,
     "metadata": {},
     "output_type": "execute_result"
    }
   ],
   "source": [
    "model"
   ]
  },
  {
   "cell_type": "code",
   "execution_count": 6,
   "metadata": {},
   "outputs": [],
   "source": [
    "output = embed.text(\n",
    "    texts=[\n",
    "        'Nomic Embed now supports local and dynamic inference to save you inference latency and cost!',\n",
    "        'Hey Nomic, why don\\'t you release a multimodal model soon?',\n",
    "    ],\n",
    "    model='nomic-embed-text-v1.5',\n",
    "    task_type=\"search_document\",\n",
    "    inference_mode='local',\n",
    "    dimensionality=768,\n",
    ")\n"
   ]
  },
  {
   "cell_type": "code",
   "execution_count": 7,
   "metadata": {},
   "outputs": [
    {
     "data": {
      "text/plain": [
       "{'prompt_tokens': 36, 'total_tokens': 36}"
      ]
     },
     "execution_count": 7,
     "metadata": {},
     "output_type": "execute_result"
    }
   ],
   "source": [
    "output['usage']"
   ]
  },
  {
   "cell_type": "code",
   "execution_count": 8,
   "metadata": {},
   "outputs": [
    {
     "data": {
      "text/plain": [
       "768"
      ]
     },
     "execution_count": 8,
     "metadata": {},
     "output_type": "execute_result"
    }
   ],
   "source": [
    "len(output['embeddings'][1])\n"
   ]
  },
  {
   "cell_type": "markdown",
   "metadata": {},
   "source": [
    "# embed and search manpages"
   ]
  },
  {
   "cell_type": "code",
   "execution_count": 9,
   "metadata": {},
   "outputs": [],
   "source": [
    "manpage_commands = ['ls','du','dd','id','ps','tr','cat','mv','cp','trunc']\n",
    "\n",
    "# call `man $command` to read manpage content\n",
    "manpage_texts = []\n",
    "for c in manpage_commands:\n",
    "    manpage_texts.append(subprocess.check_output(['man', c]).decode('utf8'))\n",
    "\n",
    "# embeddings for each manpage\n",
    "manpage_embeddings = embed.text(\n",
    "    texts=manpage_texts,\n",
    "    model='nomic-embed-text-v1.5',\n",
    "    task_type=\"search_document\",\n",
    "    inference_mode='local',\n",
    "    dimensionality=768,\n",
    ")\n",
    "# ^ takes about 22 seconds for 10 commands on an i5-8500 CPU @ 3.00GHz\n"
   ]
  },
  {
   "cell_type": "code",
   "execution_count": 10,
   "metadata": {},
   "outputs": [],
   "source": [
    "vect_texts = [np.array(e) for e in manpage_embeddings['embeddings']]\n"
   ]
  },
  {
   "cell_type": "code",
   "execution_count": 12,
   "metadata": {},
   "outputs": [
    {
     "name": "stdout",
     "output_type": "stream",
     "text": [
      "query:  list running processes\n",
      "result: ps\n",
      "top 4 scores: ps: 0.85, ls: 0.90, id: 0.95, mv: 0.97\n",
      "\n",
      "query:  show files in a directory of the filesystem\n",
      "result: ls\n",
      "top 4 scores: ls: 0.78, du: 0.83, dd: 0.87, mv: 0.89\n",
      "\n",
      "query:  write data to a block device\n",
      "result: dd\n",
      "top 4 scores: dd: 0.87, du: 0.92, id: 0.93, cp: 0.95\n",
      "\n",
      "query:  find out how much space is used or free\n",
      "result: du\n",
      "top 4 scores: du: 0.82, ls: 0.91, trunc: 0.94, dd: 0.95\n",
      "\n",
      "query:  get the uid and gid of the current user\n",
      "result: id\n",
      "top 4 scores: id: 0.81, du: 0.91, ls: 0.94, dd: 0.95\n",
      "\n",
      "query:  show running processes\n",
      "result: ps\n",
      "top 4 scores: ps: 0.84, ls: 0.90, id: 0.91, cat: 0.93\n",
      "\n",
      "query:  substitute characters in a stream\n",
      "result: tr\n",
      "top 4 scores: tr: 0.91, id: 0.96, mv: 0.96, dd: 0.97\n",
      "\n",
      "query:  read data from a file and print it to standard output\n",
      "result: cat\n",
      "top 4 scores: cat: 0.76, id: 0.83, dd: 0.83, ls: 0.85\n",
      "\n",
      "query:  move or rename a file or directory\n",
      "result: mv\n",
      "top 4 scores: mv: 0.69, cp: 0.78, dd: 0.81, ls: 0.83\n",
      "\n",
      "query:  copy a file\n",
      "result: cp\n",
      "top 4 scores: cp: 0.70, dd: 0.75, mv: 0.81, cat: 0.89\n",
      "\n",
      "query:  truncate\n",
      "result: trunc\n",
      "top 4 scores: trunc: 0.77, tr: 0.86, cat: 0.91, mv: 0.93\n",
      "\n"
     ]
    }
   ],
   "source": [
    "queries = [\n",
    "    'list running processes',\n",
    "    'show files in a directory of the filesystem',\n",
    "    'write data to a block device',\n",
    "    'find out how much space is used or free',\n",
    "    'get the uid and gid of the current user',\n",
    "    'show running processes',\n",
    "    'substitute characters in a stream',\n",
    "    'read data from a file and print it to standard output',\n",
    "    'move or rename a file or directory',\n",
    "    'copy a file',\n",
    "    'truncate',\n",
    "]\n",
    "\n",
    "for query in queries:\n",
    "    # embed the query\n",
    "    search_embed = embed.text(\n",
    "        texts=[\n",
    "            query\n",
    "        ],\n",
    "        model='nomic-embed-text-v1.5',\n",
    "        task_type=\"search_query\",\n",
    "        inference_mode='local',\n",
    "        dimensionality=768,\n",
    "    )\n",
    "    vect_query = np.array(search_embed['embeddings'][0])\n",
    "\n",
    "    # calculate embedding vector distance between the query and each manpage embedding\n",
    "    # this uses the euclidean distance (L2)\n",
    "    # TODO: try cosine, dot product\n",
    "\n",
    "    # distances = [np.linalg.norm(vect_query - v) for v in vect_texts]\n",
    "    distances = np.linalg.norm((vect_texts - vect_query), axis=1)\n",
    "\n",
    "    # pick the one with the smallest distance as the result\n",
    "    result_cmd = manpage_commands[np.argmin(distances)]\n",
    "    # ... but also output the closest N (might be interesting, especially if the results is wrong)\n",
    "    closest_n = 4\n",
    "    indices_asc_by_distance = np.argsort(distances)\n",
    "    scores_str = ', '.join([\n",
    "        f'{manpage_commands[ii]}: {distances[ii]:.2f}'\n",
    "        for ii in indices_asc_by_distance[0:closest_n]])\n",
    "\n",
    "    print(f'query:  {query}')\n",
    "    print(f'result: {result_cmd}')\n",
    "    print(f'top {closest_n} scores: {scores_str}')\n",
    "    print()"
   ]
  },
  {
   "cell_type": "code",
   "execution_count": null,
   "metadata": {},
   "outputs": [],
   "source": []
  }
 ],
 "metadata": {
  "kernelspec": {
   "display_name": "_ve",
   "language": "python",
   "name": "python3"
  },
  "language_info": {
   "codemirror_mode": {
    "name": "ipython",
    "version": 3
   },
   "file_extension": ".py",
   "mimetype": "text/x-python",
   "name": "python",
   "nbconvert_exporter": "python",
   "pygments_lexer": "ipython3",
   "version": "3.11.2"
  }
 },
 "nbformat": 4,
 "nbformat_minor": 2
}
